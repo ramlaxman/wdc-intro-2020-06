{
 "cells": [
  {
   "cell_type": "code",
   "execution_count": 1,
   "metadata": {},
   "outputs": [
    {
     "name": "stdout",
     "output_type": "stream",
     "text": [
      "Enter digits: 123\n",
      "6\n"
     ]
    }
   ],
   "source": [
    "s = raw_input(\"Enter digits: \")\n",
    "\n",
    "total = 0\n",
    "for one_item in s:\n",
    "    total += int(one_item)\n",
    "    \n",
    "print(total)"
   ]
  },
  {
   "cell_type": "code",
   "execution_count": 3,
   "metadata": {},
   "outputs": [
    {
     "name": "stdout",
     "output_type": "stream",
     "text": [
      "Enter digits: 1a23\n",
      "6\n"
     ]
    }
   ],
   "source": [
    "s = raw_input(\"Enter digits: \")\n",
    "\n",
    "total = 0\n",
    "for one_item in s:\n",
    "    if one_item.isdigit():  \n",
    "        total += int(one_item)\n",
    "    \n",
    "print(total)"
   ]
  },
  {
   "cell_type": "code",
   "execution_count": null,
   "metadata": {},
   "outputs": [],
   "source": [
    "s = raw_input(\"Enter digits: \")\n",
    "\n",
    "total = 0\n",
    "for one_item in s:\n",
    "    if not one_item.isdigit(): \n",
    "        continue\n",
    "        \n",
    "    if int(one_item) >= 5:\n",
    "        continue\n",
    "        \n",
    "    total += int(one_item)\n",
    "    \n",
    "print(total)"
   ]
  },
  {
   "cell_type": "code",
   "execution_count": null,
   "metadata": {},
   "outputs": [],
   "source": []
  }
 ],
 "metadata": {
  "kernelspec": {
   "display_name": "Python 2",
   "language": "python",
   "name": "python2"
  },
  "language_info": {
   "codemirror_mode": {
    "name": "ipython",
    "version": 2
   },
   "file_extension": ".py",
   "mimetype": "text/x-python",
   "name": "python",
   "nbconvert_exporter": "python",
   "pygments_lexer": "ipython2",
   "version": "2.7.16"
  }
 },
 "nbformat": 4,
 "nbformat_minor": 4
}
