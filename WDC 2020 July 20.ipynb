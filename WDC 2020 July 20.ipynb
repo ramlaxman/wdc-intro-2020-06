{
 "cells": [
  {
   "cell_type": "markdown",
   "metadata": {},
   "source": [
    "# Sequences\n",
    "\n",
    "### (string, list, tuple)\n",
    "\n",
    "- retrieve one item with [i] (starts with 0)\n",
    "- retrieve more than one item with a slice [start:finish+1]\n",
    "- get the length with `len`\n",
    "- run a `for` loop on the sequence\n",
    "- run the `.index` method, to find the index where something is located\n",
    "- run the `.count` method, to find out how often something appears\n",
    "- run the `in` o"
   ]
  }
 ],
 "metadata": {
  "kernelspec": {
   "display_name": "Python 2",
   "language": "python",
   "name": "python2"
  },
  "language_info": {
   "codemirror_mode": {
    "name": "ipython",
    "version": 2
   },
   "file_extension": ".py",
   "mimetype": "text/x-python",
   "name": "python",
   "nbconvert_exporter": "python",
   "pygments_lexer": "ipython2",
   "version": "2.7.16"
  }
 },
 "nbformat": 4,
 "nbformat_minor": 4
}
