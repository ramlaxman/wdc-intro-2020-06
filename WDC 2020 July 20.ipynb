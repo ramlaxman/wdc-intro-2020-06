{
 "cells": [
  {
   "cell_type": "markdown",
   "metadata": {},
   "source": [
    "# Sequences\n",
    "\n",
    "### (string, list, tuple)\n",
    "\n",
    "- retrieve one item with [i] (starts with 0)\n",
    "- retrieve more than one item with a slice [start:finish+1]\n",
    "- get the length with `len`\n",
    "- run a `for` loop on the sequence\n",
    "- run the `.index` method, to find the index where something is located\n",
    "- run the `.count` method, to find out how often something appears\n",
    "- run the `in` operator, to find out (`True`/`False`) if something is there"
   ]
  },
  {
   "cell_type": "code",
   "execution_count": 1,
   "metadata": {},
   "outputs": [
    {
     "data": {
      "text/plain": [
       "'[10, 20, 30]'"
      ]
     },
     "execution_count": 1,
     "metadata": {},
     "output_type": "execute_result"
    }
   ],
   "source": [
    "str([10, 20, 30])"
   ]
  },
  {
   "cell_type": "code",
   "execution_count": 2,
   "metadata": {},
   "outputs": [
    {
     "data": {
      "text/plain": [
       "['a', 'b', 'c', 'd', 'e']"
      ]
     },
     "execution_count": 2,
     "metadata": {},
     "output_type": "execute_result"
    }
   ],
   "source": [
    "list('abcde')"
   ]
  },
  {
   "cell_type": "code",
   "execution_count": 3,
   "metadata": {},
   "outputs": [
    {
     "data": {
      "text/plain": [
       "('a', 'b', 'c', 'd', 'e')"
      ]
     },
     "execution_count": 3,
     "metadata": {},
     "output_type": "execute_result"
    }
   ],
   "source": [
    "tuple('abcde')"
   ]
  },
  {
   "cell_type": "code",
   "execution_count": 4,
   "metadata": {},
   "outputs": [
    {
     "data": {
      "text/plain": [
       "[10, 20, 30]"
      ]
     },
     "execution_count": 4,
     "metadata": {},
     "output_type": "execute_result"
    }
   ],
   "source": [
    "list((10, 20, 30))"
   ]
  },
  {
   "cell_type": "code",
   "execution_count": 5,
   "metadata": {},
   "outputs": [
    {
     "data": {
      "text/plain": [
       "(10, 20, 30)"
      ]
     },
     "execution_count": 5,
     "metadata": {},
     "output_type": "execute_result"
    }
   ],
   "source": [
    "tuple([10, 20, 30])"
   ]
  },
  {
   "cell_type": "code",
   "execution_count": 6,
   "metadata": {},
   "outputs": [
    {
     "data": {
      "text/plain": [
       "[10, 15, 20, 25, 30]"
      ]
     },
     "execution_count": 6,
     "metadata": {},
     "output_type": "execute_result"
    }
   ],
   "source": [
    "# sorted\n",
    "\n",
    "mylist = [10, 30, 20, 15, 25]\n",
    "sorted(mylist)"
   ]
  },
  {
   "cell_type": "code",
   "execution_count": 7,
   "metadata": {},
   "outputs": [
    {
     "data": {
      "text/plain": [
       "['a', 'is', 'list', 'test', 'this']"
      ]
     },
     "execution_count": 7,
     "metadata": {},
     "output_type": "execute_result"
    }
   ],
   "source": [
    "mylist = ['this', 'is', 'a', 'test', 'list']\n",
    "sorted(mylist)"
   ]
  },
  {
   "cell_type": "code",
   "execution_count": 8,
   "metadata": {},
   "outputs": [
    {
     "data": {
      "text/plain": [
       "['this', 'is', 'a', 'test', 'list']"
      ]
     },
     "execution_count": 8,
     "metadata": {},
     "output_type": "execute_result"
    }
   ],
   "source": [
    "mylist"
   ]
  },
  {
   "cell_type": "code",
   "execution_count": null,
   "metadata": {},
   "outputs": [],
   "source": []
  },
  {
   "cell_type": "code",
   "execution_count": 9,
   "metadata": {},
   "outputs": [
    {
     "data": {
      "text/plain": [
       "[10, 15, 20, 25, 30]"
      ]
     },
     "execution_count": 9,
     "metadata": {},
     "output_type": "execute_result"
    }
   ],
   "source": [
    "# sorted\n",
    "\n",
    "mylist = [10, 30, 20, 15, 25]\n",
    "sorted(mylist)"
   ]
  },
  {
   "cell_type": "code",
   "execution_count": 10,
   "metadata": {},
   "outputs": [
    {
     "data": {
      "text/plain": [
       "[10, 30, 20, 15, 25]"
      ]
     },
     "execution_count": 10,
     "metadata": {},
     "output_type": "execute_result"
    }
   ],
   "source": [
    "mylist"
   ]
  },
  {
   "cell_type": "code",
   "execution_count": 11,
   "metadata": {},
   "outputs": [
    {
     "data": {
      "text/plain": [
       "[[10, 20, 30], [5, 10, 15], [10, 30, 40], [5, 3, 10], [7, 8, 9]]"
      ]
     },
     "execution_count": 11,
     "metadata": {},
     "output_type": "execute_result"
    }
   ],
   "source": [
    "mylist = [[10, 20, 30],\n",
    "          [5, 10, 15],\n",
    "          [10, 30, 40],\n",
    "          [5, 3, 10],\n",
    "          [7, 8, 9]]\n",
    "\n",
    "mylist"
   ]
  },
  {
   "cell_type": "code",
   "execution_count": 12,
   "metadata": {},
   "outputs": [
    {
     "data": {
      "text/plain": [
       "[[5, 3, 10], [5, 10, 15], [7, 8, 9], [10, 20, 30], [10, 30, 40]]"
      ]
     },
     "execution_count": 12,
     "metadata": {},
     "output_type": "execute_result"
    }
   ],
   "source": [
    "sorted(mylist)"
   ]
  },
  {
   "cell_type": "code",
   "execution_count": 13,
   "metadata": {},
   "outputs": [
    {
     "data": {
      "text/plain": [
       "['abcd', 'efgh', 'ij', 'klm']"
      ]
     },
     "execution_count": 13,
     "metadata": {},
     "output_type": "execute_result"
    }
   ],
   "source": [
    "s = 'abcd:efgh:ij:klm'\n",
    "s.split(\":\")"
   ]
  },
  {
   "cell_type": "code",
   "execution_count": 15,
   "metadata": {},
   "outputs": [
    {
     "data": {
      "text/plain": [
       "['abcd', 'efgh', 'ij', 'klm']"
      ]
     },
     "execution_count": 15,
     "metadata": {},
     "output_type": "execute_result"
    }
   ],
   "source": [
    "s = 'abcd   efgh       ij klm'\n",
    "s.split()"
   ]
  },
  {
   "cell_type": "code",
   "execution_count": 16,
   "metadata": {},
   "outputs": [],
   "source": [
    "mylist = [10, 20, 30]\n",
    "\n",
    "x,y,z = mylist"
   ]
  },
  {
   "cell_type": "code",
   "execution_count": 17,
   "metadata": {},
   "outputs": [
    {
     "data": {
      "text/plain": [
       "10"
      ]
     },
     "execution_count": 17,
     "metadata": {},
     "output_type": "execute_result"
    }
   ],
   "source": [
    "x"
   ]
  },
  {
   "cell_type": "code",
   "execution_count": 18,
   "metadata": {},
   "outputs": [
    {
     "data": {
      "text/plain": [
       "20"
      ]
     },
     "execution_count": 18,
     "metadata": {},
     "output_type": "execute_result"
    }
   ],
   "source": [
    "y"
   ]
  },
  {
   "cell_type": "code",
   "execution_count": 19,
   "metadata": {},
   "outputs": [
    {
     "data": {
      "text/plain": [
       "30"
      ]
     },
     "execution_count": 19,
     "metadata": {},
     "output_type": "execute_result"
    }
   ],
   "source": [
    "z"
   ]
  },
  {
   "cell_type": "code",
   "execution_count": 20,
   "metadata": {},
   "outputs": [],
   "source": [
    "x = 111\n",
    "y = 222\n",
    "\n",
    "x,y = (y,x)"
   ]
  },
  {
   "cell_type": "code",
   "execution_count": 21,
   "metadata": {},
   "outputs": [
    {
     "data": {
      "text/plain": [
       "222"
      ]
     },
     "execution_count": 21,
     "metadata": {},
     "output_type": "execute_result"
    }
   ],
   "source": [
    "x"
   ]
  },
  {
   "cell_type": "code",
   "execution_count": 22,
   "metadata": {},
   "outputs": [
    {
     "data": {
      "text/plain": [
       "111"
      ]
     },
     "execution_count": 22,
     "metadata": {},
     "output_type": "execute_result"
    }
   ],
   "source": [
    "y"
   ]
  },
  {
   "cell_type": "markdown",
   "metadata": {},
   "source": [
    "# Exercise: Travel\n",
    "\n",
    "1. Define an empty list, `all_places`.\n",
    "2. Ask the user, repeatedly, to enter city,country.\n",
    "3. If the user enters an empty string, stop asking.\n",
    "4. Take the user's input, and turn it into a list: [country, city] (yes, backwards from input)\n",
    "5. Add this new, 2-element list to `all_places`.\n",
    "6. Print each of the places the person went as city, country (yes, reversing again) *but* sorted, first by country and then by city.\n",
    "\n",
    "Example:\n",
    "\n",
    "   ```\n",
    "   Where have you gone? Shanghai, China\n",
    "   Where have you gone? New York, USA\n",
    "   Where have you gone? Chicago, USA\n",
    "   Where have you gone? Beijing, China\n",
    "   Where have you gone? **ENTER**\n",
    "   \n",
    "   Beijing, China\n",
    "   Shanghai, China\n",
    "   Chicago, USA\n",
    "   New York, USA\n",
    "   ```   \n",
    "   \n",
    "  "
   ]
  },
  {
   "cell_type": "code",
   "execution_count": 23,
   "metadata": {},
   "outputs": [
    {
     "name": "stdout",
     "output_type": "stream",
     "text": [
      "all_places = []\n",
      "Where have you gone: Chicago, USA\n",
      "all_places = [['USA', 'Chicago']]\n",
      "Where have you gone: Shanghai, China\n",
      "all_places = [['USA', 'Chicago'], ['China', 'Shanghai']]\n",
      "Where have you gone: Beijing, China\n",
      "all_places = [['USA', 'Chicago'], ['China', 'Shanghai'], ['China', 'Beijing']]\n",
      "Where have you gone: New York, USA\n",
      "all_places = [['USA', 'Chicago'], ['China', 'Shanghai'], ['China', 'Beijing'], ['USA', 'New York']]\n",
      "Where have you gone: \n"
     ]
    }
   ],
   "source": [
    "all_places = []\n",
    "\n",
    "while True:\n",
    "    print('all_places = {0}'.format(all_places))\n",
    "    s = raw_input(\"Where have you gone: \").strip()\n",
    "    \n",
    "    if not s:\n",
    "        break\n",
    "        \n",
    "    if ', ' not in s:\n",
    "        print('Enter \"city, country\"')\n",
    "        continue\n",
    "        \n",
    "    one_city, one_country = s.split(', ')\n",
    "    \n",
    "    all_places.append([one_country, one_city])"
   ]
  },
  {
   "cell_type": "code",
   "execution_count": 24,
   "metadata": {},
   "outputs": [
    {
     "data": {
      "text/plain": [
       "[['USA', 'Chicago'],\n",
       " ['China', 'Shanghai'],\n",
       " ['China', 'Beijing'],\n",
       " ['USA', 'New York']]"
      ]
     },
     "execution_count": 24,
     "metadata": {},
     "output_type": "execute_result"
    }
   ],
   "source": [
    "all_places"
   ]
  },
  {
   "cell_type": "code",
   "execution_count": 26,
   "metadata": {},
   "outputs": [
    {
     "name": "stdout",
     "output_type": "stream",
     "text": [
      "Beijing, China\n",
      "Shanghai, China\n",
      "Chicago, USA\n",
      "New York, USA\n"
     ]
    }
   ],
   "source": [
    "for one_country, one_city in sorted(all_places):\n",
    "    print('{0}, {1}'.format(one_city, one_country))"
   ]
  },
  {
   "cell_type": "code",
   "execution_count": 29,
   "metadata": {},
   "outputs": [
    {
     "name": "stdout",
     "output_type": "stream",
     "text": [
      "('China', 'Beijing')\n",
      "('China', 'Shanghai')\n",
      "('USA', 'Chicago')\n",
      "('USA', 'New York')\n"
     ]
    }
   ],
   "source": [
    "for one_country, one_city in sorted(all_places):\n",
    "    print('{0}, {1}'.format(one_city, one_country))"
   ]
  },
  {
   "cell_type": "code",
   "execution_count": 30,
   "metadata": {},
   "outputs": [
    {
     "data": {
      "text/plain": [
       "[['China', 'Beijing'],\n",
       " ['China', 'Shanghai'],\n",
       " ['USA', 'Chicago'],\n",
       " ['USA', 'New York']]"
      ]
     },
     "execution_count": 30,
     "metadata": {},
     "output_type": "execute_result"
    }
   ],
   "source": [
    "sorted(all_places)"
   ]
  },
  {
   "cell_type": "code",
   "execution_count": 31,
   "metadata": {},
   "outputs": [],
   "source": [
    "mylist = [100, 200, 300, 350]"
   ]
  },
  {
   "cell_type": "code",
   "execution_count": 33,
   "metadata": {},
   "outputs": [],
   "source": [
    "# dictionary (dict)\n",
    "\n",
    "d = {'a':1, 'b':2, 'c':3}"
   ]
  },
  {
   "cell_type": "code",
   "execution_count": 34,
   "metadata": {},
   "outputs": [
    {
     "data": {
      "text/plain": [
       "3"
      ]
     },
     "execution_count": 34,
     "metadata": {},
     "output_type": "execute_result"
    }
   ],
   "source": [
    "len(d)"
   ]
  },
  {
   "cell_type": "code",
   "execution_count": 35,
   "metadata": {},
   "outputs": [
    {
     "data": {
      "text/plain": [
       "1"
      ]
     },
     "execution_count": 35,
     "metadata": {},
     "output_type": "execute_result"
    }
   ],
   "source": [
    "d['a']"
   ]
  },
  {
   "cell_type": "code",
   "execution_count": 36,
   "metadata": {},
   "outputs": [
    {
     "data": {
      "text/plain": [
       "2"
      ]
     },
     "execution_count": 36,
     "metadata": {},
     "output_type": "execute_result"
    }
   ],
   "source": [
    "d['b']"
   ]
  },
  {
   "cell_type": "code",
   "execution_count": 37,
   "metadata": {},
   "outputs": [
    {
     "data": {
      "text/plain": [
       "3"
      ]
     },
     "execution_count": 37,
     "metadata": {},
     "output_type": "execute_result"
    }
   ],
   "source": [
    "d['c']"
   ]
  },
  {
   "cell_type": "code",
   "execution_count": 38,
   "metadata": {},
   "outputs": [
    {
     "ename": "KeyError",
     "evalue": "'x'",
     "output_type": "error",
     "traceback": [
      "\u001b[0;31m---------------------------------------------------------------------------\u001b[0m",
      "\u001b[0;31mKeyError\u001b[0m                                  Traceback (most recent call last)",
      "\u001b[0;32m<ipython-input-38-7657742692bd>\u001b[0m in \u001b[0;36m<module>\u001b[0;34m()\u001b[0m\n\u001b[0;32m----> 1\u001b[0;31m \u001b[0md\u001b[0m\u001b[0;34m[\u001b[0m\u001b[0;34m'x'\u001b[0m\u001b[0;34m]\u001b[0m\u001b[0;34m\u001b[0m\u001b[0m\n\u001b[0m",
      "\u001b[0;31mKeyError\u001b[0m: 'x'"
     ]
    }
   ],
   "source": [
    "d['x']"
   ]
  },
  {
   "cell_type": "code",
   "execution_count": 39,
   "metadata": {},
   "outputs": [
    {
     "data": {
      "text/plain": [
       "{'a': 1, 'b': 2, 'c': 3}"
      ]
     },
     "execution_count": 39,
     "metadata": {},
     "output_type": "execute_result"
    }
   ],
   "source": [
    "d"
   ]
  },
  {
   "cell_type": "code",
   "execution_count": 40,
   "metadata": {},
   "outputs": [],
   "source": [
    "d['x'] = 123"
   ]
  },
  {
   "cell_type": "code",
   "execution_count": 41,
   "metadata": {},
   "outputs": [
    {
     "data": {
      "text/plain": [
       "{'a': 1, 'b': 2, 'c': 3, 'x': 123}"
      ]
     },
     "execution_count": 41,
     "metadata": {},
     "output_type": "execute_result"
    }
   ],
   "source": [
    "d"
   ]
  },
  {
   "cell_type": "code",
   "execution_count": 42,
   "metadata": {},
   "outputs": [],
   "source": [
    "d['x'] = 456"
   ]
  },
  {
   "cell_type": "code",
   "execution_count": 43,
   "metadata": {},
   "outputs": [
    {
     "data": {
      "text/plain": [
       "{'a': 1, 'b': 2, 'c': 3, 'x': 456}"
      ]
     },
     "execution_count": 43,
     "metadata": {},
     "output_type": "execute_result"
    }
   ],
   "source": [
    "d"
   ]
  },
  {
   "cell_type": "code",
   "execution_count": 44,
   "metadata": {},
   "outputs": [
    {
     "data": {
      "text/plain": [
       "True"
      ]
     },
     "execution_count": 44,
     "metadata": {},
     "output_type": "execute_result"
    }
   ],
   "source": [
    "'a' in d"
   ]
  },
  {
   "cell_type": "code",
   "execution_count": 45,
   "metadata": {},
   "outputs": [
    {
     "data": {
      "text/plain": [
       "True"
      ]
     },
     "execution_count": 45,
     "metadata": {},
     "output_type": "execute_result"
    }
   ],
   "source": [
    "'x' in d"
   ]
  },
  {
   "cell_type": "code",
   "execution_count": 46,
   "metadata": {},
   "outputs": [
    {
     "data": {
      "text/plain": [
       "False"
      ]
     },
     "execution_count": 46,
     "metadata": {},
     "output_type": "execute_result"
    }
   ],
   "source": [
    "'y' in d"
   ]
  },
  {
   "cell_type": "code",
   "execution_count": 47,
   "metadata": {},
   "outputs": [
    {
     "data": {
      "text/plain": [
       "{'a': 1, 'b': 2, 'c': 3, 'x': 456}"
      ]
     },
     "execution_count": 47,
     "metadata": {},
     "output_type": "execute_result"
    }
   ],
   "source": [
    "d"
   ]
  },
  {
   "cell_type": "code",
   "execution_count": 48,
   "metadata": {},
   "outputs": [
    {
     "data": {
      "text/plain": [
       "False"
      ]
     },
     "execution_count": 48,
     "metadata": {},
     "output_type": "execute_result"
    }
   ],
   "source": [
    "2 in d"
   ]
  },
  {
   "cell_type": "markdown",
   "metadata": {},
   "source": [
    "# Exercise: Restaurant\n",
    "\n",
    "1. Define a dict, `menu`, in which the keys are the restaurant's items and the values are the prices.\n",
    "2. Ask the user repeatedly to enter what they want to order.\n",
    "3. If the item is on the menu, then tell them the price and the current total.\n",
    "4. If the item is not on the menu, scold them a bit.\n",
    "5. If the user enters an empty string, then stop asking and print the total.\n",
    "\n",
    "Example:\n",
    "\n",
    "    ```\n",
    "    What do you want to order? sandwich\n",
    "    sandwich is 30, total is 30\n",
    "    What do you want to order? tea\n",
    "    tea is 10, total is 40\n",
    "    What do you want to order? elephant\n",
    "    We are all out of elephant today\n",
    "    What do you want to order? ENTER\n",
    "    Your total is 40\n",
    "    ```"
   ]
  },
  {
   "cell_type": "code",
   "execution_count": 52,
   "metadata": {},
   "outputs": [
    {
     "name": "stdout",
     "output_type": "stream",
     "text": [
      "Enter your order: sandwich\n",
      "sandwich costs 30, total is 30\n",
      "Enter your order: tea\n",
      "tea costs 10, total is 40\n",
      "Enter your order: elephant\n",
      "Sorry, we are out of elephant\n",
      "Enter your order: cake\n",
      "cake costs 15, total is 55\n",
      "Enter your order: \n",
      "Your total is 55\n"
     ]
    }
   ],
   "source": [
    "menu = {'cake': 15, 'sandwich': 30, 'tea': 10}\n",
    "total = 0\n",
    "\n",
    "while True:\n",
    "    order = raw_input(\"Enter your order: \").strip()\n",
    "    \n",
    "    if not order:\n",
    "        break\n",
    "        \n",
    "    if order in menu:\n",
    "        price = menu[order]\n",
    "        total += price\n",
    "        print('{0} costs {1}, total is {2}'.format(order, price, total))\n",
    "        \n",
    "    else:\n",
    "        print('Sorry, we are out of {0}'.format(order))\n",
    "        \n",
    "print('Your total is {0}'.format(total))"
   ]
  },
  {
   "cell_type": "code",
   "execution_count": 53,
   "metadata": {},
   "outputs": [
    {
     "data": {
      "text/plain": [
       "3"
      ]
     },
     "execution_count": 53,
     "metadata": {},
     "output_type": "execute_result"
    }
   ],
   "source": [
    "d = {'a':1, 'b':2, 'c':3}\n",
    "\n",
    "d['c']"
   ]
  },
  {
   "cell_type": "code",
   "execution_count": 54,
   "metadata": {},
   "outputs": [
    {
     "data": {
      "text/plain": [
       "3"
      ]
     },
     "execution_count": 54,
     "metadata": {},
     "output_type": "execute_result"
    }
   ],
   "source": [
    "my_key = 'c'\n",
    "d[my_key]"
   ]
  },
  {
   "cell_type": "code",
   "execution_count": 55,
   "metadata": {},
   "outputs": [
    {
     "name": "stdout",
     "output_type": "stream",
     "text": [
      "Enter your order: tea\n",
      "tea costs 10, total is 10\n",
      "Enter your order: \n",
      "Your total is 10\n"
     ]
    }
   ],
   "source": [
    "menu = {'cake': 15, 'sandwich': 30, 'tea': 10}\n",
    "total = 0\n",
    "\n",
    "while True:\n",
    "    order = raw_input(\"Enter your order: \").strip()\n",
    "    \n",
    "    if not order:\n",
    "        break\n",
    "        \n",
    "    if order in menu:\n",
    "        total += menu[order]\n",
    "        print('{0} costs {1}, total is {2}'.format(order, \n",
    "                                                   menu[order], \n",
    "                                                   total))\n",
    "        \n",
    "    else:\n",
    "        print('Sorry, we are out of {0}'.format(order))\n",
    "        \n",
    "print('Your total is {0}'.format(total))"
   ]
  },
  {
   "cell_type": "code",
   "execution_count": 56,
   "metadata": {},
   "outputs": [],
   "source": [
    "x = 100\n",
    "y = [10, 20, 30]"
   ]
  },
  {
   "cell_type": "code",
   "execution_count": 57,
   "metadata": {
    "collapsed": true
   },
   "outputs": [
    {
     "data": {
      "text/plain": [
       "{'In': ['',\n",
       "  u'str([10, 20, 30])',\n",
       "  u\"list('abcde')\",\n",
       "  u\"tuple('abcde')\",\n",
       "  u'list((10, 20, 30))',\n",
       "  u'tuple([10, 20, 30])',\n",
       "  u'# sorted\\n\\nmylist = [10, 30, 20, 15, 25]\\nsorted(mylist)',\n",
       "  u\"mylist = ['this', 'is', 'a', 'test', 'list']\\nsorted(mylist)\",\n",
       "  u'mylist',\n",
       "  u'# sorted\\n\\nmylist = [10, 30, 20, 15, 25]\\nsorted(mylist)',\n",
       "  u'mylist',\n",
       "  u'mylist = [[10, 20, 30],\\n          [5, 10, 15],\\n          [10, 30, 40],\\n          [5, 3, 10],\\n          [7, 8, 9]]\\n\\nmylist',\n",
       "  u'sorted(mylist)',\n",
       "  u's = \\'abcd:efgh:ij:klm\\'\\ns.split(\":\")',\n",
       "  u\"s = 'abcd efgh ij klm'\\ns.split()\",\n",
       "  u\"s = 'abcd   efgh       ij klm'\\ns.split()\",\n",
       "  u'mylist = [10, 20, 30]\\n\\nx,y,z = mylist',\n",
       "  u'x',\n",
       "  u'y',\n",
       "  u'z',\n",
       "  u'x = 111\\ny = 222\\n\\nx,y = (y,x)',\n",
       "  u'x',\n",
       "  u'y',\n",
       "  u'all_places = []\\n\\nwhile True:\\n    print(\\'all_places = {0}\\'.format(all_places))\\n    s = raw_input(\"Where have you gone: \").strip()\\n    \\n    if not s:\\n        break\\n        \\n    if \\', \\' not in s:\\n        print(\\'Enter \"city, country\"\\')\\n        continue\\n        \\n    one_city, one_country = s.split(\\', \\')\\n    \\n    all_places.append([one_country, one_city])',\n",
       "  u'all_places',\n",
       "  u\"for one_country, one_city in all_places:\\n    print('{0}, {1}'.format(one_city, one_country))\",\n",
       "  u\"for one_country, one_city in sorted(all_places):\\n    print('{0}, {1}'.format(one_city, one_country))\",\n",
       "  u'for one_item in all_places:\\n    print(one_item)',\n",
       "  u'for one_item in sorted(all_places):\\n    print(one_item)',\n",
       "  u'for one_item in sorted(all_places):\\n    print(one_item[0], one_item[1])',\n",
       "  u'sorted(all_places)',\n",
       "  u'mylist = [100, 200, 300, 350]',\n",
       "  u\"# dictionary (dict)\\n\\nd = {'a':1, 'b':2, 'c':3}\",\n",
       "  u\"# dictionary (dict)\\n\\nd = {'a':1, 'b':2, 'c':3}\",\n",
       "  u'len(d)',\n",
       "  u\"d['a']\",\n",
       "  u\"d['b']\",\n",
       "  u\"d['c']\",\n",
       "  u\"d['x']\",\n",
       "  u'd',\n",
       "  u\"d['x'] = 123\",\n",
       "  u'd',\n",
       "  u\"d['x'] = 456\",\n",
       "  u'd',\n",
       "  u\"'a' in d\",\n",
       "  u\"'x' in d\",\n",
       "  u\"'y' in d\",\n",
       "  u'd',\n",
       "  u'2 in d',\n",
       "  u'menu = {}',\n",
       "  u\"menu = {}\\nmenu['sandwich'] = 30\\nmenu['tea'] = 10\\nmenu['cake'] = 15\\n\\nmenu\",\n",
       "  u\"menu = {'cake': 15, 'sandwich': 30, 'tea': 10}\",\n",
       "  u'menu = {\\'cake\\': 15, \\'sandwich\\': 30, \\'tea\\': 10}\\ntotal = 0\\n\\nwhile True:\\n    order = raw_input(\"Enter your order: \").strip()\\n    \\n    if not order:\\n        break\\n        \\n    if order in menu:\\n        price = menu[order]\\n        total += price\\n        print(\\'{0} costs {1}, total is {2}\\'.format(order, price, total))\\n        \\n    else:\\n        print(\\'Sorry, we are out of {0}\\'.format(order))\\n        \\nprint(\\'Your total is {0}\\'.format(total))',\n",
       "  u\"d = {'a':1, 'b':2, 'c':3}\\n\\nd['c']\",\n",
       "  u\"my_key = 'c'\\nd[my_key]\",\n",
       "  u'menu = {\\'cake\\': 15, \\'sandwich\\': 30, \\'tea\\': 10}\\ntotal = 0\\n\\nwhile True:\\n    order = raw_input(\"Enter your order: \").strip()\\n    \\n    if not order:\\n        break\\n        \\n    if order in menu:\\n        total += menu[order]\\n        print(\\'{0} costs {1}, total is {2}\\'.format(order, menu[order], total))\\n        \\n    else:\\n        print(\\'Sorry, we are out of {0}\\'.format(order))\\n        \\nprint(\\'Your total is {0}\\'.format(total))',\n",
       "  u'x = 100\\ny = [10, 20, 30]',\n",
       "  u'globals()'],\n",
       " 'Out': {1: '[10, 20, 30]',\n",
       "  2: ['a', 'b', 'c', 'd', 'e'],\n",
       "  3: ('a', 'b', 'c', 'd', 'e'),\n",
       "  4: [10, 20, 30],\n",
       "  5: (10, 20, 30),\n",
       "  6: [10, 15, 20, 25, 30],\n",
       "  7: ['a', 'is', 'list', 'test', 'this'],\n",
       "  8: ['this', 'is', 'a', 'test', 'list'],\n",
       "  9: [10, 15, 20, 25, 30],\n",
       "  10: [10, 30, 20, 15, 25],\n",
       "  11: [[10, 20, 30], [5, 10, 15], [10, 30, 40], [5, 3, 10], [7, 8, 9]],\n",
       "  12: [[5, 3, 10], [5, 10, 15], [7, 8, 9], [10, 20, 30], [10, 30, 40]],\n",
       "  13: ['abcd', 'efgh', 'ij', 'klm'],\n",
       "  14: ['abcd', 'efgh', 'ij', 'klm'],\n",
       "  15: ['abcd', 'efgh', 'ij', 'klm'],\n",
       "  17: 10,\n",
       "  18: 20,\n",
       "  19: 30,\n",
       "  21: 222,\n",
       "  22: 111,\n",
       "  24: [['USA', 'Chicago'],\n",
       "   ['China', 'Shanghai'],\n",
       "   ['China', 'Beijing'],\n",
       "   ['USA', 'New York']],\n",
       "  30: [['China', 'Beijing'],\n",
       "   ['China', 'Shanghai'],\n",
       "   ['USA', 'Chicago'],\n",
       "   ['USA', 'New York']],\n",
       "  34: 3,\n",
       "  35: 1,\n",
       "  36: 2,\n",
       "  37: 3,\n",
       "  39: {'a': 1, 'b': 2, 'c': 3, 'x': 456},\n",
       "  41: {'a': 1, 'b': 2, 'c': 3, 'x': 456},\n",
       "  43: {'a': 1, 'b': 2, 'c': 3, 'x': 456},\n",
       "  44: True,\n",
       "  45: True,\n",
       "  46: False,\n",
       "  47: {'a': 1, 'b': 2, 'c': 3, 'x': 456},\n",
       "  48: False,\n",
       "  50: {'cake': 15, 'sandwich': 30, 'tea': 10},\n",
       "  53: 3,\n",
       "  54: 3},\n",
       " '_': 3,\n",
       " '_1': '[10, 20, 30]',\n",
       " '_10': [10, 30, 20, 15, 25],\n",
       " '_11': [[10, 20, 30], [5, 10, 15], [10, 30, 40], [5, 3, 10], [7, 8, 9]],\n",
       " '_12': [[5, 3, 10], [5, 10, 15], [7, 8, 9], [10, 20, 30], [10, 30, 40]],\n",
       " '_13': ['abcd', 'efgh', 'ij', 'klm'],\n",
       " '_14': ['abcd', 'efgh', 'ij', 'klm'],\n",
       " '_15': ['abcd', 'efgh', 'ij', 'klm'],\n",
       " '_17': 10,\n",
       " '_18': 20,\n",
       " '_19': 30,\n",
       " '_2': ['a', 'b', 'c', 'd', 'e'],\n",
       " '_21': 222,\n",
       " '_22': 111,\n",
       " '_24': [['USA', 'Chicago'],\n",
       "  ['China', 'Shanghai'],\n",
       "  ['China', 'Beijing'],\n",
       "  ['USA', 'New York']],\n",
       " '_3': ('a', 'b', 'c', 'd', 'e'),\n",
       " '_30': [['China', 'Beijing'],\n",
       "  ['China', 'Shanghai'],\n",
       "  ['USA', 'Chicago'],\n",
       "  ['USA', 'New York']],\n",
       " '_34': 3,\n",
       " '_35': 1,\n",
       " '_36': 2,\n",
       " '_37': 3,\n",
       " '_39': {'a': 1, 'b': 2, 'c': 3, 'x': 456},\n",
       " '_4': [10, 20, 30],\n",
       " '_41': {'a': 1, 'b': 2, 'c': 3, 'x': 456},\n",
       " '_43': {'a': 1, 'b': 2, 'c': 3, 'x': 456},\n",
       " '_44': True,\n",
       " '_45': True,\n",
       " '_46': False,\n",
       " '_47': {'a': 1, 'b': 2, 'c': 3, 'x': 456},\n",
       " '_48': False,\n",
       " '_5': (10, 20, 30),\n",
       " '_50': {'cake': 15, 'sandwich': 30, 'tea': 10},\n",
       " '_53': 3,\n",
       " '_54': 3,\n",
       " '_6': [10, 15, 20, 25, 30],\n",
       " '_7': ['a', 'is', 'list', 'test', 'this'],\n",
       " '_8': ['this', 'is', 'a', 'test', 'list'],\n",
       " '_9': [10, 15, 20, 25, 30],\n",
       " '__': 3,\n",
       " '___': {'cake': 15, 'sandwich': 30, 'tea': 10},\n",
       " '__builtin__': <module '__builtin__' (built-in)>,\n",
       " '__builtins__': <module '__builtin__' (built-in)>,\n",
       " '__doc__': 'Automatically created module for IPython interactive environment',\n",
       " '__name__': '__main__',\n",
       " '_dh': [u'/Users/reuven/Consulting/Courses/Python/wdc-intro-2020-06'],\n",
       " '_i': u'x = 100\\ny = [10, 20, 30]',\n",
       " '_i1': u'str([10, 20, 30])',\n",
       " '_i10': u'mylist',\n",
       " '_i11': u'mylist = [[10, 20, 30],\\n          [5, 10, 15],\\n          [10, 30, 40],\\n          [5, 3, 10],\\n          [7, 8, 9]]\\n\\nmylist',\n",
       " '_i12': u'sorted(mylist)',\n",
       " '_i13': u's = \\'abcd:efgh:ij:klm\\'\\ns.split(\":\")',\n",
       " '_i14': u\"s = 'abcd efgh ij klm'\\ns.split()\",\n",
       " '_i15': u\"s = 'abcd   efgh       ij klm'\\ns.split()\",\n",
       " '_i16': u'mylist = [10, 20, 30]\\n\\nx,y,z = mylist',\n",
       " '_i17': u'x',\n",
       " '_i18': u'y',\n",
       " '_i19': u'z',\n",
       " '_i2': u\"list('abcde')\",\n",
       " '_i20': u'x = 111\\ny = 222\\n\\nx,y = (y,x)',\n",
       " '_i21': u'x',\n",
       " '_i22': u'y',\n",
       " '_i23': u'all_places = []\\n\\nwhile True:\\n    print(\\'all_places = {0}\\'.format(all_places))\\n    s = raw_input(\"Where have you gone: \").strip()\\n    \\n    if not s:\\n        break\\n        \\n    if \\', \\' not in s:\\n        print(\\'Enter \"city, country\"\\')\\n        continue\\n        \\n    one_city, one_country = s.split(\\', \\')\\n    \\n    all_places.append([one_country, one_city])',\n",
       " '_i24': u'all_places',\n",
       " '_i25': u\"for one_country, one_city in all_places:\\n    print('{0}, {1}'.format(one_city, one_country))\",\n",
       " '_i26': u\"for one_country, one_city in sorted(all_places):\\n    print('{0}, {1}'.format(one_city, one_country))\",\n",
       " '_i27': u'for one_item in all_places:\\n    print(one_item)',\n",
       " '_i28': u'for one_item in sorted(all_places):\\n    print(one_item)',\n",
       " '_i29': u'for one_item in sorted(all_places):\\n    print(one_item[0], one_item[1])',\n",
       " '_i3': u\"tuple('abcde')\",\n",
       " '_i30': u'sorted(all_places)',\n",
       " '_i31': u'mylist = [100, 200, 300, 350]',\n",
       " '_i32': u\"# dictionary (dict)\\n\\nd = {'a':1, 'b':2, 'c':3}\",\n",
       " '_i33': u\"# dictionary (dict)\\n\\nd = {'a':1, 'b':2, 'c':3}\",\n",
       " '_i34': u'len(d)',\n",
       " '_i35': u\"d['a']\",\n",
       " '_i36': u\"d['b']\",\n",
       " '_i37': u\"d['c']\",\n",
       " '_i38': u\"d['x']\",\n",
       " '_i39': u'd',\n",
       " '_i4': u'list((10, 20, 30))',\n",
       " '_i40': u\"d['x'] = 123\",\n",
       " '_i41': u'd',\n",
       " '_i42': u\"d['x'] = 456\",\n",
       " '_i43': u'd',\n",
       " '_i44': u\"'a' in d\",\n",
       " '_i45': u\"'x' in d\",\n",
       " '_i46': u\"'y' in d\",\n",
       " '_i47': u'd',\n",
       " '_i48': u'2 in d',\n",
       " '_i49': u'menu = {}',\n",
       " '_i5': u'tuple([10, 20, 30])',\n",
       " '_i50': u\"menu = {}\\nmenu['sandwich'] = 30\\nmenu['tea'] = 10\\nmenu['cake'] = 15\\n\\nmenu\",\n",
       " '_i51': u\"menu = {'cake': 15, 'sandwich': 30, 'tea': 10}\",\n",
       " '_i52': u'menu = {\\'cake\\': 15, \\'sandwich\\': 30, \\'tea\\': 10}\\ntotal = 0\\n\\nwhile True:\\n    order = raw_input(\"Enter your order: \").strip()\\n    \\n    if not order:\\n        break\\n        \\n    if order in menu:\\n        price = menu[order]\\n        total += price\\n        print(\\'{0} costs {1}, total is {2}\\'.format(order, price, total))\\n        \\n    else:\\n        print(\\'Sorry, we are out of {0}\\'.format(order))\\n        \\nprint(\\'Your total is {0}\\'.format(total))',\n",
       " '_i53': u\"d = {'a':1, 'b':2, 'c':3}\\n\\nd['c']\",\n",
       " '_i54': u\"my_key = 'c'\\nd[my_key]\",\n",
       " '_i55': u'menu = {\\'cake\\': 15, \\'sandwich\\': 30, \\'tea\\': 10}\\ntotal = 0\\n\\nwhile True:\\n    order = raw_input(\"Enter your order: \").strip()\\n    \\n    if not order:\\n        break\\n        \\n    if order in menu:\\n        total += menu[order]\\n        print(\\'{0} costs {1}, total is {2}\\'.format(order, menu[order], total))\\n        \\n    else:\\n        print(\\'Sorry, we are out of {0}\\'.format(order))\\n        \\nprint(\\'Your total is {0}\\'.format(total))',\n",
       " '_i56': u'x = 100\\ny = [10, 20, 30]',\n",
       " '_i57': u'globals()',\n",
       " '_i6': u'# sorted\\n\\nmylist = [10, 30, 20, 15, 25]\\nsorted(mylist)',\n",
       " '_i7': u\"mylist = ['this', 'is', 'a', 'test', 'list']\\nsorted(mylist)\",\n",
       " '_i8': u'mylist',\n",
       " '_i9': u'# sorted\\n\\nmylist = [10, 30, 20, 15, 25]\\nsorted(mylist)',\n",
       " '_ih': ['',\n",
       "  u'str([10, 20, 30])',\n",
       "  u\"list('abcde')\",\n",
       "  u\"tuple('abcde')\",\n",
       "  u'list((10, 20, 30))',\n",
       "  u'tuple([10, 20, 30])',\n",
       "  u'# sorted\\n\\nmylist = [10, 30, 20, 15, 25]\\nsorted(mylist)',\n",
       "  u\"mylist = ['this', 'is', 'a', 'test', 'list']\\nsorted(mylist)\",\n",
       "  u'mylist',\n",
       "  u'# sorted\\n\\nmylist = [10, 30, 20, 15, 25]\\nsorted(mylist)',\n",
       "  u'mylist',\n",
       "  u'mylist = [[10, 20, 30],\\n          [5, 10, 15],\\n          [10, 30, 40],\\n          [5, 3, 10],\\n          [7, 8, 9]]\\n\\nmylist',\n",
       "  u'sorted(mylist)',\n",
       "  u's = \\'abcd:efgh:ij:klm\\'\\ns.split(\":\")',\n",
       "  u\"s = 'abcd efgh ij klm'\\ns.split()\",\n",
       "  u\"s = 'abcd   efgh       ij klm'\\ns.split()\",\n",
       "  u'mylist = [10, 20, 30]\\n\\nx,y,z = mylist',\n",
       "  u'x',\n",
       "  u'y',\n",
       "  u'z',\n",
       "  u'x = 111\\ny = 222\\n\\nx,y = (y,x)',\n",
       "  u'x',\n",
       "  u'y',\n",
       "  u'all_places = []\\n\\nwhile True:\\n    print(\\'all_places = {0}\\'.format(all_places))\\n    s = raw_input(\"Where have you gone: \").strip()\\n    \\n    if not s:\\n        break\\n        \\n    if \\', \\' not in s:\\n        print(\\'Enter \"city, country\"\\')\\n        continue\\n        \\n    one_city, one_country = s.split(\\', \\')\\n    \\n    all_places.append([one_country, one_city])',\n",
       "  u'all_places',\n",
       "  u\"for one_country, one_city in all_places:\\n    print('{0}, {1}'.format(one_city, one_country))\",\n",
       "  u\"for one_country, one_city in sorted(all_places):\\n    print('{0}, {1}'.format(one_city, one_country))\",\n",
       "  u'for one_item in all_places:\\n    print(one_item)',\n",
       "  u'for one_item in sorted(all_places):\\n    print(one_item)',\n",
       "  u'for one_item in sorted(all_places):\\n    print(one_item[0], one_item[1])',\n",
       "  u'sorted(all_places)',\n",
       "  u'mylist = [100, 200, 300, 350]',\n",
       "  u\"# dictionary (dict)\\n\\nd = {'a':1, 'b':2, 'c':3}\",\n",
       "  u\"# dictionary (dict)\\n\\nd = {'a':1, 'b':2, 'c':3}\",\n",
       "  u'len(d)',\n",
       "  u\"d['a']\",\n",
       "  u\"d['b']\",\n",
       "  u\"d['c']\",\n",
       "  u\"d['x']\",\n",
       "  u'd',\n",
       "  u\"d['x'] = 123\",\n",
       "  u'd',\n",
       "  u\"d['x'] = 456\",\n",
       "  u'd',\n",
       "  u\"'a' in d\",\n",
       "  u\"'x' in d\",\n",
       "  u\"'y' in d\",\n",
       "  u'd',\n",
       "  u'2 in d',\n",
       "  u'menu = {}',\n",
       "  u\"menu = {}\\nmenu['sandwich'] = 30\\nmenu['tea'] = 10\\nmenu['cake'] = 15\\n\\nmenu\",\n",
       "  u\"menu = {'cake': 15, 'sandwich': 30, 'tea': 10}\",\n",
       "  u'menu = {\\'cake\\': 15, \\'sandwich\\': 30, \\'tea\\': 10}\\ntotal = 0\\n\\nwhile True:\\n    order = raw_input(\"Enter your order: \").strip()\\n    \\n    if not order:\\n        break\\n        \\n    if order in menu:\\n        price = menu[order]\\n        total += price\\n        print(\\'{0} costs {1}, total is {2}\\'.format(order, price, total))\\n        \\n    else:\\n        print(\\'Sorry, we are out of {0}\\'.format(order))\\n        \\nprint(\\'Your total is {0}\\'.format(total))',\n",
       "  u\"d = {'a':1, 'b':2, 'c':3}\\n\\nd['c']\",\n",
       "  u\"my_key = 'c'\\nd[my_key]\",\n",
       "  u'menu = {\\'cake\\': 15, \\'sandwich\\': 30, \\'tea\\': 10}\\ntotal = 0\\n\\nwhile True:\\n    order = raw_input(\"Enter your order: \").strip()\\n    \\n    if not order:\\n        break\\n        \\n    if order in menu:\\n        total += menu[order]\\n        print(\\'{0} costs {1}, total is {2}\\'.format(order, menu[order], total))\\n        \\n    else:\\n        print(\\'Sorry, we are out of {0}\\'.format(order))\\n        \\nprint(\\'Your total is {0}\\'.format(total))',\n",
       "  u'x = 100\\ny = [10, 20, 30]',\n",
       "  u'globals()'],\n",
       " '_ii': u'menu = {\\'cake\\': 15, \\'sandwich\\': 30, \\'tea\\': 10}\\ntotal = 0\\n\\nwhile True:\\n    order = raw_input(\"Enter your order: \").strip()\\n    \\n    if not order:\\n        break\\n        \\n    if order in menu:\\n        total += menu[order]\\n        print(\\'{0} costs {1}, total is {2}\\'.format(order, menu[order], total))\\n        \\n    else:\\n        print(\\'Sorry, we are out of {0}\\'.format(order))\\n        \\nprint(\\'Your total is {0}\\'.format(total))',\n",
       " '_iii': u\"my_key = 'c'\\nd[my_key]\",\n",
       " '_oh': {1: '[10, 20, 30]',\n",
       "  2: ['a', 'b', 'c', 'd', 'e'],\n",
       "  3: ('a', 'b', 'c', 'd', 'e'),\n",
       "  4: [10, 20, 30],\n",
       "  5: (10, 20, 30),\n",
       "  6: [10, 15, 20, 25, 30],\n",
       "  7: ['a', 'is', 'list', 'test', 'this'],\n",
       "  8: ['this', 'is', 'a', 'test', 'list'],\n",
       "  9: [10, 15, 20, 25, 30],\n",
       "  10: [10, 30, 20, 15, 25],\n",
       "  11: [[10, 20, 30], [5, 10, 15], [10, 30, 40], [5, 3, 10], [7, 8, 9]],\n",
       "  12: [[5, 3, 10], [5, 10, 15], [7, 8, 9], [10, 20, 30], [10, 30, 40]],\n",
       "  13: ['abcd', 'efgh', 'ij', 'klm'],\n",
       "  14: ['abcd', 'efgh', 'ij', 'klm'],\n",
       "  15: ['abcd', 'efgh', 'ij', 'klm'],\n",
       "  17: 10,\n",
       "  18: 20,\n",
       "  19: 30,\n",
       "  21: 222,\n",
       "  22: 111,\n",
       "  24: [['USA', 'Chicago'],\n",
       "   ['China', 'Shanghai'],\n",
       "   ['China', 'Beijing'],\n",
       "   ['USA', 'New York']],\n",
       "  30: [['China', 'Beijing'],\n",
       "   ['China', 'Shanghai'],\n",
       "   ['USA', 'Chicago'],\n",
       "   ['USA', 'New York']],\n",
       "  34: 3,\n",
       "  35: 1,\n",
       "  36: 2,\n",
       "  37: 3,\n",
       "  39: {'a': 1, 'b': 2, 'c': 3, 'x': 456},\n",
       "  41: {'a': 1, 'b': 2, 'c': 3, 'x': 456},\n",
       "  43: {'a': 1, 'b': 2, 'c': 3, 'x': 456},\n",
       "  44: True,\n",
       "  45: True,\n",
       "  46: False,\n",
       "  47: {'a': 1, 'b': 2, 'c': 3, 'x': 456},\n",
       "  48: False,\n",
       "  50: {'cake': 15, 'sandwich': 30, 'tea': 10},\n",
       "  53: 3,\n",
       "  54: 3},\n",
       " '_sh': <module 'IPython.core.shadowns' from '/Users/reuven/Library/Python/2.7/lib/python/site-packages/IPython/core/shadowns.pyc'>,\n",
       " 'all_places': [['USA', 'Chicago'],\n",
       "  ['China', 'Shanghai'],\n",
       "  ['China', 'Beijing'],\n",
       "  ['USA', 'New York']],\n",
       " 'd': {'a': 1, 'b': 2, 'c': 3},\n",
       " 'exit': <IPython.core.autocall.ZMQExitAutocall at 0x10e977550>,\n",
       " 'get_ipython': <bound method ZMQInteractiveShell.get_ipython of <ipykernel.zmqshell.ZMQInteractiveShell object at 0x10e903990>>,\n",
       " 'menu': {'cake': 15, 'sandwich': 30, 'tea': 10},\n",
       " 'my_key': 'c',\n",
       " 'mylist': [100, 200, 300, 350],\n",
       " 'one_city': 'New York',\n",
       " 'one_country': 'USA',\n",
       " 'one_item': ['USA', 'New York'],\n",
       " 'order': '',\n",
       " 'price': 15,\n",
       " 'quit': <IPython.core.autocall.ZMQExitAutocall at 0x10e977550>,\n",
       " 's': '',\n",
       " 'total': 10,\n",
       " 'x': 100,\n",
       " 'y': [10, 20, 30],\n",
       " 'z': 30}"
      ]
     },
     "execution_count": 57,
     "metadata": {},
     "output_type": "execute_result"
    }
   ],
   "source": [
    "globals()"
   ]
  },
  {
   "cell_type": "code",
   "execution_count": 59,
   "metadata": {},
   "outputs": [
    {
     "name": "stdout",
     "output_type": "stream",
     "text": [
      "{}\n",
      "Enter a letter: a\n",
      "{'a': 1}\n",
      "Enter a letter: b\n",
      "{'a': 1, 'b': 1}\n",
      "Enter a letter: a\n",
      "{'a': 2, 'b': 1}\n",
      "Enter a letter: c\n",
      "{'a': 2, 'c': 1, 'b': 1}\n",
      "Enter a letter: c\n",
      "{'a': 2, 'c': 2, 'b': 1}\n",
      "Enter a letter: c\n",
      "{'a': 2, 'c': 3, 'b': 1}\n",
      "Enter a letter: c\n",
      "{'a': 2, 'c': 4, 'b': 1}\n",
      "Enter a letter: \n",
      "{'a': 2, 'c': 4, 'b': 1}\n"
     ]
    }
   ],
   "source": [
    "counts = {}\n",
    "while True:\n",
    "    print(counts)\n",
    "    s = raw_input(\"Enter a letter: \").strip()\n",
    "    \n",
    "    if not s:\n",
    "        break\n",
    "        \n",
    "    if s in counts:\n",
    "        counts[s] += 1\n",
    "    else:\n",
    "        counts[s] = 1\n",
    "        \n",
    "print(counts)"
   ]
  },
  {
   "cell_type": "code",
   "execution_count": 60,
   "metadata": {},
   "outputs": [
    {
     "name": "stdout",
     "output_type": "stream",
     "text": [
      "Enter a key: a\n",
      "d[a] = 1\n",
      "Enter a key: b\n",
      "d[b] = 2\n",
      "Enter a key: c\n",
      "d[c] = 3\n",
      "Enter a key: x\n",
      "x is not a key in d\n",
      "Enter a key: \n"
     ]
    }
   ],
   "source": [
    "d = {'a':1, 'b':2, 'c':3}\n",
    "\n",
    "while True:\n",
    "    k = raw_input(\"Enter a key: \").strip()\n",
    "    \n",
    "    if not k:\n",
    "        break\n",
    "        \n",
    "    if k in d:\n",
    "        print('d[{0}] = {1}'.format(k, d[k]))\n",
    "        \n",
    "    else:\n",
    "        print('{0} is not a key in d'.format(k))"
   ]
  },
  {
   "cell_type": "code",
   "execution_count": 61,
   "metadata": {},
   "outputs": [
    {
     "data": {
      "text/plain": [
       "1"
      ]
     },
     "execution_count": 61,
     "metadata": {},
     "output_type": "execute_result"
    }
   ],
   "source": [
    "d.get('a')"
   ]
  },
  {
   "cell_type": "code",
   "execution_count": 62,
   "metadata": {},
   "outputs": [
    {
     "data": {
      "text/plain": [
       "2"
      ]
     },
     "execution_count": 62,
     "metadata": {},
     "output_type": "execute_result"
    }
   ],
   "source": [
    "d.get('b')"
   ]
  },
  {
   "cell_type": "code",
   "execution_count": 63,
   "metadata": {},
   "outputs": [],
   "source": [
    "d.get('x')  # will return None, since 'x' is not in d"
   ]
  },
  {
   "cell_type": "code",
   "execution_count": 64,
   "metadata": {},
   "outputs": [
    {
     "data": {
      "text/plain": [
       "'No such key'"
      ]
     },
     "execution_count": 64,
     "metadata": {},
     "output_type": "execute_result"
    }
   ],
   "source": [
    "d.get('x', 'No such key')"
   ]
  },
  {
   "cell_type": "code",
   "execution_count": 65,
   "metadata": {},
   "outputs": [
    {
     "data": {
      "text/plain": [
       "1"
      ]
     },
     "execution_count": 65,
     "metadata": {},
     "output_type": "execute_result"
    }
   ],
   "source": [
    "d.get('a', 'No such key')"
   ]
  },
  {
   "cell_type": "code",
   "execution_count": 66,
   "metadata": {},
   "outputs": [],
   "source": [
    "value = d.get('x', 'No such key')"
   ]
  },
  {
   "cell_type": "code",
   "execution_count": 67,
   "metadata": {},
   "outputs": [
    {
     "name": "stdout",
     "output_type": "stream",
     "text": [
      "No such key\n"
     ]
    }
   ],
   "source": [
    "print(value)"
   ]
  },
  {
   "cell_type": "markdown",
   "metadata": {},
   "source": [
    "# Exercise: Rainfall\n",
    "\n",
    "1. Create a dict, `rainfall`, which is empty.\n",
    "2. Ask the user for the name of city.\n",
    "3. If the city name is blank, show the `rainfall` dict and exit.\n",
    "4. If the city isn't blank, ask how much rain has fallen (in mm).\n",
    "5. Add the rainfall to any existing report in the dict.\n",
    "\n",
    "\n",
    "Example:\n",
    "\n",
    "    City: Tel Aviv\n",
    "    Rain: 3\n",
    "    City: Jeruaslem\n",
    "    Rain: 4\n",
    "    City: Tel Aviv\n",
    "    Rain: 2\n",
    "    City: **ENTER**\n",
    "    \n",
    "    {'Tel Aviv': 5, 'Jerusalem':4}\n",
    "    "
   ]
  },
  {
   "cell_type": "code",
   "execution_count": 70,
   "metadata": {},
   "outputs": [
    {
     "name": "stdout",
     "output_type": "stream",
     "text": [
      "Enter city: Tel Aviv\n",
      "Enter mm rain: 2\n",
      "Enter city: Jerusalem\n",
      "Enter mm rain: 3\n",
      "Enter city: Tel Aviv\n",
      "Enter mm rain: 4\n",
      "Enter city: \n",
      "{'Tel Aviv': 6, 'Jerusalem': 3}\n"
     ]
    }
   ],
   "source": [
    "rainfall = {}\n",
    "\n",
    "while True:\n",
    "    city_name = raw_input(\"Enter city: \").strip()\n",
    "    \n",
    "    if not city_name:\n",
    "        break\n",
    "        \n",
    "    mm_rain = int(raw_input(\"Enter mm rain: \"))\n",
    "    \n",
    "    if city_name in rainfall:\n",
    "        rainfall[city_name] += mm_rain\n",
    "    else:\n",
    "        rainfall[city_name] = mm_rain\n",
    "    \n",
    "print(rainfall)"
   ]
  },
  {
   "cell_type": "code",
   "execution_count": null,
   "metadata": {},
   "outputs": [],
   "source": [
    "rainfall = {}\n",
    "\n",
    "while True:\n",
    "    city_name = raw_input(\"Enter city: \").strip()\n",
    "    \n",
    "    if not city_name:\n",
    "        break\n",
    "        \n",
    "    mm_rain = int(raw_input(\"Enter mm rain: \"))\n",
    "    \n",
    "    rainfall[city_name] = rainfall.get(city_name, 0) + mm_rain\n",
    "    \n",
    "print(rainfall)"
   ]
  },
  {
   "cell_type": "code",
   "execution_count": 71,
   "metadata": {},
   "outputs": [
    {
     "data": {
      "text/plain": [
       "{'Jerusalem': 3, 'Tel Aviv': 6}"
      ]
     },
     "execution_count": 71,
     "metadata": {},
     "output_type": "execute_result"
    }
   ],
   "source": [
    "rainfall"
   ]
  },
  {
   "cell_type": "code",
   "execution_count": 72,
   "metadata": {},
   "outputs": [
    {
     "name": "stdout",
     "output_type": "stream",
     "text": [
      "a\n",
      "c\n",
      "b\n"
     ]
    }
   ],
   "source": [
    "d = {'a':1, 'b':2, 'c':3}\n",
    "\n",
    "for one_item in d:\n",
    "    print(one_item)"
   ]
  },
  {
   "cell_type": "code",
   "execution_count": 73,
   "metadata": {},
   "outputs": [
    {
     "name": "stdout",
     "output_type": "stream",
     "text": [
      "a: 1\n",
      "c: 3\n",
      "b: 2\n"
     ]
    }
   ],
   "source": [
    "for one_key in d:\n",
    "    print('{0}: {1}'.format(one_key, d[one_key]))"
   ]
  },
  {
   "cell_type": "code",
   "execution_count": 74,
   "metadata": {},
   "outputs": [
    {
     "data": {
      "text/plain": [
       "['a', 'c', 'b']"
      ]
     },
     "execution_count": 74,
     "metadata": {},
     "output_type": "execute_result"
    }
   ],
   "source": [
    "list(d)"
   ]
  },
  {
   "cell_type": "code",
   "execution_count": 75,
   "metadata": {},
   "outputs": [
    {
     "data": {
      "text/plain": [
       "['a', 'c', 'b']"
      ]
     },
     "execution_count": 75,
     "metadata": {},
     "output_type": "execute_result"
    }
   ],
   "source": [
    "d.keys()"
   ]
  },
  {
   "cell_type": "code",
   "execution_count": 76,
   "metadata": {},
   "outputs": [
    {
     "data": {
      "text/plain": [
       "[('a', 1), ('c', 3), ('b', 2)]"
      ]
     },
     "execution_count": 76,
     "metadata": {},
     "output_type": "execute_result"
    }
   ],
   "source": [
    "d.items()"
   ]
  },
  {
   "cell_type": "code",
   "execution_count": 77,
   "metadata": {},
   "outputs": [
    {
     "name": "stdout",
     "output_type": "stream",
     "text": [
      "a: 1\n",
      "c: 3\n",
      "b: 2\n"
     ]
    }
   ],
   "source": [
    "for t in d.items():\n",
    "    print('{0}: {1}'.format(t[0], t[1]))"
   ]
  },
  {
   "cell_type": "code",
   "execution_count": 78,
   "metadata": {},
   "outputs": [
    {
     "name": "stdout",
     "output_type": "stream",
     "text": [
      "a: 1\n",
      "c: 3\n",
      "b: 2\n"
     ]
    }
   ],
   "source": [
    "for key, value in d.items():\n",
    "    print('{0}: {1}'.format(key, value))"
   ]
  },
  {
   "cell_type": "code",
   "execution_count": 79,
   "metadata": {},
   "outputs": [
    {
     "data": {
      "text/plain": [
       "{'a': 1, 'b': 2, 'c': 3}"
      ]
     },
     "execution_count": 79,
     "metadata": {},
     "output_type": "execute_result"
    }
   ],
   "source": [
    "d "
   ]
  },
  {
   "cell_type": "code",
   "execution_count": 80,
   "metadata": {},
   "outputs": [
    {
     "ename": "TypeError",
     "evalue": "unhashable type: 'list'",
     "output_type": "error",
     "traceback": [
      "\u001b[0;31m---------------------------------------------------------------------------\u001b[0m",
      "\u001b[0;31mTypeError\u001b[0m                                 Traceback (most recent call last)",
      "\u001b[0;32m<ipython-input-80-0a80836d4d26>\u001b[0m in \u001b[0;36m<module>\u001b[0;34m()\u001b[0m\n\u001b[1;32m      1\u001b[0m \u001b[0mmylist\u001b[0m \u001b[0;34m=\u001b[0m \u001b[0;34m[\u001b[0m\u001b[0;36m10\u001b[0m\u001b[0;34m,\u001b[0m \u001b[0;36m20\u001b[0m\u001b[0;34m,\u001b[0m \u001b[0;36m30\u001b[0m\u001b[0;34m]\u001b[0m\u001b[0;34m\u001b[0m\u001b[0m\n\u001b[0;32m----> 2\u001b[0;31m \u001b[0md\u001b[0m\u001b[0;34m[\u001b[0m\u001b[0mmylist\u001b[0m\u001b[0;34m]\u001b[0m \u001b[0;34m=\u001b[0m \u001b[0;36m4\u001b[0m\u001b[0;34m\u001b[0m\u001b[0m\n\u001b[0m",
      "\u001b[0;31mTypeError\u001b[0m: unhashable type: 'list'"
     ]
    }
   ],
   "source": [
    "mylist = [10, 20, 30]\n",
    "d[mylist] = 4"
   ]
  },
  {
   "cell_type": "code",
   "execution_count": 81,
   "metadata": {},
   "outputs": [],
   "source": [
    "d = {}"
   ]
  },
  {
   "cell_type": "raw",
   "metadata": {},
   "source": [
    "           key         value\n",
    "           \n",
    "     0\n",
    "     1\n",
    "     2\n",
    "     3\n",
    "     4\n",
    "     5\n",
    "     6\n",
    "     7"
   ]
  },
  {
   "cell_type": "code",
   "execution_count": null,
   "metadata": {},
   "outputs": [],
   "source": []
  }
 ],
 "metadata": {
  "kernelspec": {
   "display_name": "Python 2",
   "language": "python",
   "name": "python2"
  },
  "language_info": {
   "codemirror_mode": {
    "name": "ipython",
    "version": 2
   },
   "file_extension": ".py",
   "mimetype": "text/x-python",
   "name": "python",
   "nbconvert_exporter": "python",
   "pygments_lexer": "ipython2",
   "version": "2.7.16"
  }
 },
 "nbformat": 4,
 "nbformat_minor": 4
}
